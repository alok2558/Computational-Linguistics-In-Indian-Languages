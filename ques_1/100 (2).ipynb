{
  "nbformat": 4,
  "nbformat_minor": 0,
  "metadata": {
    "colab": {
      "name": "100.ipynb",
      "provenance": [],
      "collapsed_sections": []
    },
    "kernelspec": {
      "name": "python3",
      "display_name": "Python 3"
    },
    "language_info": {
      "name": "python"
    }
  },
  "cells": [
    {
      "cell_type": "code",
      "execution_count": null,
      "metadata": {
        "id": "I_Mu-EJP3kUd"
      },
      "outputs": [],
      "source": [
        "import numpy as np\n",
        "import pandas as pd\n",
        "import glob\n"
      ]
    },
    {
      "cell_type": "code",
      "source": [
        "file_folder = r\"hindi.txt\"\n",
        "file =  open(file_folder,\"rb\")\n",
        "tex = file.read()"
      ],
      "metadata": {
        "id": "d7t0j8sh46xZ"
      },
      "execution_count": null,
      "outputs": []
    },
    {
      "cell_type": "code",
      "source": [
        "terms = []\n",
        "truth =[]\n",
        "for word in tex.decode(errors = 'replace').split('\\n'):\n",
        "  temp = []\n",
        "  word = word.split(\",\")\n",
        "  temp.append(word[0])\n",
        "  temp.append(word[1])\n",
        "  terms.append(temp)\n",
        "  truth.append(word[2].split('\\r')[0])\n"
      ],
      "metadata": {
        "colab": {
          "base_uri": "https://localhost:8080/",
          "height": 234
        },
        "id": "czoOhAUNge_v",
        "outputId": "2b462b01-7c86-46c3-d412-4f8f5004badb"
      },
      "execution_count": null,
      "outputs": [
        {
          "output_type": "error",
          "ename": "IndexError",
          "evalue": "ignored",
          "traceback": [
            "\u001b[0;31m---------------------------------------------------------------------------\u001b[0m",
            "\u001b[0;31mIndexError\u001b[0m                                Traceback (most recent call last)",
            "\u001b[0;32m<ipython-input-3-2adfcb335797>\u001b[0m in \u001b[0;36m<module>\u001b[0;34m()\u001b[0m\n\u001b[1;32m      5\u001b[0m   \u001b[0mword\u001b[0m \u001b[0;34m=\u001b[0m \u001b[0mword\u001b[0m\u001b[0;34m.\u001b[0m\u001b[0msplit\u001b[0m\u001b[0;34m(\u001b[0m\u001b[0;34m\",\"\u001b[0m\u001b[0;34m)\u001b[0m\u001b[0;34m\u001b[0m\u001b[0;34m\u001b[0m\u001b[0m\n\u001b[1;32m      6\u001b[0m   \u001b[0mtemp\u001b[0m\u001b[0;34m.\u001b[0m\u001b[0mappend\u001b[0m\u001b[0;34m(\u001b[0m\u001b[0mword\u001b[0m\u001b[0;34m[\u001b[0m\u001b[0;36m0\u001b[0m\u001b[0;34m]\u001b[0m\u001b[0;34m)\u001b[0m\u001b[0;34m\u001b[0m\u001b[0;34m\u001b[0m\u001b[0m\n\u001b[0;32m----> 7\u001b[0;31m   \u001b[0mtemp\u001b[0m\u001b[0;34m.\u001b[0m\u001b[0mappend\u001b[0m\u001b[0;34m(\u001b[0m\u001b[0mword\u001b[0m\u001b[0;34m[\u001b[0m\u001b[0;36m1\u001b[0m\u001b[0;34m]\u001b[0m\u001b[0;34m)\u001b[0m\u001b[0;34m\u001b[0m\u001b[0;34m\u001b[0m\u001b[0m\n\u001b[0m\u001b[1;32m      8\u001b[0m   \u001b[0mterms\u001b[0m\u001b[0;34m.\u001b[0m\u001b[0mappend\u001b[0m\u001b[0;34m(\u001b[0m\u001b[0mtemp\u001b[0m\u001b[0;34m)\u001b[0m\u001b[0;34m\u001b[0m\u001b[0;34m\u001b[0m\u001b[0m\n\u001b[1;32m      9\u001b[0m   \u001b[0mtruth\u001b[0m\u001b[0;34m.\u001b[0m\u001b[0mappend\u001b[0m\u001b[0;34m(\u001b[0m\u001b[0mword\u001b[0m\u001b[0;34m[\u001b[0m\u001b[0;36m2\u001b[0m\u001b[0;34m]\u001b[0m\u001b[0;34m.\u001b[0m\u001b[0msplit\u001b[0m\u001b[0;34m(\u001b[0m\u001b[0;34m'\\r'\u001b[0m\u001b[0;34m)\u001b[0m\u001b[0;34m[\u001b[0m\u001b[0;36m0\u001b[0m\u001b[0;34m]\u001b[0m\u001b[0;34m)\u001b[0m\u001b[0;34m\u001b[0m\u001b[0;34m\u001b[0m\u001b[0m\n",
            "\u001b[0;31mIndexError\u001b[0m: list index out of range"
          ]
        }
      ]
    },
    {
      "cell_type": "code",
      "source": [
        "truth"
      ],
      "metadata": {
        "colab": {
          "base_uri": "https://localhost:8080/"
        },
        "id": "ng-pN0Hy93U4",
        "outputId": "25922a36-bbcc-47d1-c8df-69eb2143adf5"
      },
      "execution_count": null,
      "outputs": [
        {
          "output_type": "execute_result",
          "data": {
            "text/plain": [
              "['6.8',\n",
              " '7.0',\n",
              " '7.6',\n",
              " '7.6',\n",
              " '8.0',\n",
              " '6.0',\n",
              " '6.2',\n",
              " '7.6',\n",
              " '6.4',\n",
              " '5.8',\n",
              " '6.6',\n",
              " '5.8',\n",
              " '7.6',\n",
              " '4.6',\n",
              " '7.0',\n",
              " '5.2',\n",
              " '6.2',\n",
              " '7.6',\n",
              " '8.0',\n",
              " '7.0',\n",
              " '0.0',\n",
              " '8.2',\n",
              " '7.0',\n",
              " '7.8',\n",
              " '1.0',\n",
              " '7.8',\n",
              " '9.0',\n",
              " '6.4',\n",
              " '5.8',\n",
              " '7.4',\n",
              " '7.8',\n",
              " '6.6',\n",
              " '6.6',\n",
              " '8.4',\n",
              " '1.4',\n",
              " '0.4',\n",
              " '7.0',\n",
              " '7.2',\n",
              " '1.8',\n",
              " '6.8',\n",
              " '8.4',\n",
              " '6.6',\n",
              " '7.4',\n",
              " '1.4',\n",
              " '6.2',\n",
              " '0.2',\n",
              " '2.0',\n",
              " '8.6',\n",
              " '9.2',\n",
              " '8.4',\n",
              " '8.2',\n",
              " '6.6',\n",
              " '2.6',\n",
              " '8.0',\n",
              " '7.6',\n",
              " '6.8',\n",
              " '6.2',\n",
              " '5.2',\n",
              " '7.0',\n",
              " '6.4',\n",
              " '7.0',\n",
              " '7.4',\n",
              " '6.2',\n",
              " '7.0',\n",
              " '4.2']"
            ]
          },
          "metadata": {},
          "execution_count": 4
        }
      ]
    },
    {
      "cell_type": "code",
      "source": [
        ""
      ],
      "metadata": {
        "id": "K74jOIDa96k7"
      },
      "execution_count": null,
      "outputs": []
    },
    {
      "cell_type": "code",
      "source": [
        "terms[64]"
      ],
      "metadata": {
        "colab": {
          "base_uri": "https://localhost:8080/"
        },
        "id": "RoKpIsj9inaM",
        "outputId": "10aa6170-a74b-41d2-8084-2ab85002ebcc"
      },
      "execution_count": null,
      "outputs": [
        {
          "output_type": "execute_result",
          "data": {
            "text/plain": [
              "['मनोविज्ञान', 'अनुशासन']"
            ]
          },
          "metadata": {},
          "execution_count": 14
        }
      ]
    },
    {
      "cell_type": "markdown",
      "source": [
        "**GLOV**"
      ],
      "metadata": {
        "id": "5HipqKKtgfg7"
      }
    },
    {
      "cell_type": "code",
      "source": [
        "import pandas as pd\n",
        "df = pd.read_csv(r\"hi/100/glove/hi-d100-glove.txt\",sep = \" \",encoding = \"utf-8\",encoding_errors = 'ignore',header = None)\n"
      ],
      "metadata": {
        "id": "21eUdA9C4_zP"
      },
      "execution_count": null,
      "outputs": []
    },
    {
      "cell_type": "code",
      "source": [
        "glov_100_acc  = []\n",
        "for word in tex.decode(errors = 'replace').split('\\n'):\n",
        "    word = word.split(\"\\t\")\n",
        "\n",
        "    a_word = word[0]\n",
        "    temp = df[df.iloc[:,0] == a_word]\n",
        "    \n",
        "    aa = temp.iloc[:,[i for i in range(1,101)]]\n",
        "    \n",
        "    aa= aa.T\n",
        "    aa = list(aa.iloc[:,0])\n",
        "    b_word =  word[1]\n",
        "    temp = df[df.iloc[:,0] == b_word]\n",
        "    bb = temp.iloc[:,[i for i in range(1,101)]]\n",
        "    bb = bb.T\n",
        "    bb = list(bb.iloc[:,0])\n",
        "    a = np.sum(np.dot(aa,bb))\n",
        "    b = 0 \n",
        "    for i in range(len(aa)):\n",
        "      b = b + aa[i]*aa[i]\n",
        "    b = b**.5\n",
        "    c = 0\n",
        "    for i in range(len(bb)):\n",
        "      c = c + bb[i]*bb[i]\n",
        "    c = c**.5\n",
        "    x = a/(b*c)\n",
        "    glov_100_acc.append(x)\n",
        "    "
      ],
      "metadata": {
        "colab": {
          "base_uri": "https://localhost:8080/",
          "height": 380
        },
        "id": "A59RgxKsfjZt",
        "outputId": "d746e91b-fae6-464c-b0be-be6272f32239"
      },
      "execution_count": null,
      "outputs": [
        {
          "output_type": "error",
          "ename": "IndexError",
          "evalue": "ignored",
          "traceback": [
            "\u001b[0;31m---------------------------------------------------------------------------\u001b[0m",
            "\u001b[0;31mIndexError\u001b[0m                                Traceback (most recent call last)",
            "\u001b[0;32m<ipython-input-6-4df34f0fd238>\u001b[0m in \u001b[0;36m<module>\u001b[0;34m()\u001b[0m\n\u001b[1;32m      9\u001b[0m \u001b[0;34m\u001b[0m\u001b[0m\n\u001b[1;32m     10\u001b[0m     \u001b[0maa\u001b[0m\u001b[0;34m=\u001b[0m \u001b[0maa\u001b[0m\u001b[0;34m.\u001b[0m\u001b[0mT\u001b[0m\u001b[0;34m\u001b[0m\u001b[0;34m\u001b[0m\u001b[0m\n\u001b[0;32m---> 11\u001b[0;31m     \u001b[0maa\u001b[0m \u001b[0;34m=\u001b[0m \u001b[0mlist\u001b[0m\u001b[0;34m(\u001b[0m\u001b[0maa\u001b[0m\u001b[0;34m.\u001b[0m\u001b[0miloc\u001b[0m\u001b[0;34m[\u001b[0m\u001b[0;34m:\u001b[0m\u001b[0;34m,\u001b[0m\u001b[0;36m0\u001b[0m\u001b[0;34m]\u001b[0m\u001b[0;34m)\u001b[0m\u001b[0;34m\u001b[0m\u001b[0;34m\u001b[0m\u001b[0m\n\u001b[0m\u001b[1;32m     12\u001b[0m     \u001b[0mb_word\u001b[0m \u001b[0;34m=\u001b[0m  \u001b[0mword\u001b[0m\u001b[0;34m[\u001b[0m\u001b[0;36m1\u001b[0m\u001b[0;34m]\u001b[0m\u001b[0;34m\u001b[0m\u001b[0;34m\u001b[0m\u001b[0m\n\u001b[1;32m     13\u001b[0m     \u001b[0mtemp\u001b[0m \u001b[0;34m=\u001b[0m \u001b[0mdf\u001b[0m\u001b[0;34m[\u001b[0m\u001b[0mdf\u001b[0m\u001b[0;34m.\u001b[0m\u001b[0miloc\u001b[0m\u001b[0;34m[\u001b[0m\u001b[0;34m:\u001b[0m\u001b[0;34m,\u001b[0m\u001b[0;36m0\u001b[0m\u001b[0;34m]\u001b[0m \u001b[0;34m==\u001b[0m \u001b[0mb_word\u001b[0m\u001b[0;34m]\u001b[0m\u001b[0;34m\u001b[0m\u001b[0;34m\u001b[0m\u001b[0m\n",
            "\u001b[0;32m/usr/local/lib/python3.7/dist-packages/pandas/core/indexing.py\u001b[0m in \u001b[0;36m__getitem__\u001b[0;34m(self, key)\u001b[0m\n\u001b[1;32m    923\u001b[0m                 \u001b[0;32mwith\u001b[0m \u001b[0msuppress\u001b[0m\u001b[0;34m(\u001b[0m\u001b[0mKeyError\u001b[0m\u001b[0;34m,\u001b[0m \u001b[0mIndexError\u001b[0m\u001b[0;34m)\u001b[0m\u001b[0;34m:\u001b[0m\u001b[0;34m\u001b[0m\u001b[0;34m\u001b[0m\u001b[0m\n\u001b[1;32m    924\u001b[0m                     \u001b[0;32mreturn\u001b[0m \u001b[0mself\u001b[0m\u001b[0;34m.\u001b[0m\u001b[0mobj\u001b[0m\u001b[0;34m.\u001b[0m\u001b[0m_get_value\u001b[0m\u001b[0;34m(\u001b[0m\u001b[0;34m*\u001b[0m\u001b[0mkey\u001b[0m\u001b[0;34m,\u001b[0m \u001b[0mtakeable\u001b[0m\u001b[0;34m=\u001b[0m\u001b[0mself\u001b[0m\u001b[0;34m.\u001b[0m\u001b[0m_takeable\u001b[0m\u001b[0;34m)\u001b[0m\u001b[0;34m\u001b[0m\u001b[0;34m\u001b[0m\u001b[0m\n\u001b[0;32m--> 925\u001b[0;31m             \u001b[0;32mreturn\u001b[0m \u001b[0mself\u001b[0m\u001b[0;34m.\u001b[0m\u001b[0m_getitem_tuple\u001b[0m\u001b[0;34m(\u001b[0m\u001b[0mkey\u001b[0m\u001b[0;34m)\u001b[0m\u001b[0;34m\u001b[0m\u001b[0;34m\u001b[0m\u001b[0m\n\u001b[0m\u001b[1;32m    926\u001b[0m         \u001b[0;32melse\u001b[0m\u001b[0;34m:\u001b[0m\u001b[0;34m\u001b[0m\u001b[0;34m\u001b[0m\u001b[0m\n\u001b[1;32m    927\u001b[0m             \u001b[0;31m# we by definition only have the 0th axis\u001b[0m\u001b[0;34m\u001b[0m\u001b[0;34m\u001b[0m\u001b[0;34m\u001b[0m\u001b[0m\n",
            "\u001b[0;32m/usr/local/lib/python3.7/dist-packages/pandas/core/indexing.py\u001b[0m in \u001b[0;36m_getitem_tuple\u001b[0;34m(self, tup)\u001b[0m\n\u001b[1;32m   1504\u001b[0m     \u001b[0;32mdef\u001b[0m \u001b[0m_getitem_tuple\u001b[0m\u001b[0;34m(\u001b[0m\u001b[0mself\u001b[0m\u001b[0;34m,\u001b[0m \u001b[0mtup\u001b[0m\u001b[0;34m:\u001b[0m \u001b[0mtuple\u001b[0m\u001b[0;34m)\u001b[0m\u001b[0;34m:\u001b[0m\u001b[0;34m\u001b[0m\u001b[0;34m\u001b[0m\u001b[0m\n\u001b[1;32m   1505\u001b[0m \u001b[0;34m\u001b[0m\u001b[0m\n\u001b[0;32m-> 1506\u001b[0;31m         \u001b[0mself\u001b[0m\u001b[0;34m.\u001b[0m\u001b[0m_has_valid_tuple\u001b[0m\u001b[0;34m(\u001b[0m\u001b[0mtup\u001b[0m\u001b[0;34m)\u001b[0m\u001b[0;34m\u001b[0m\u001b[0;34m\u001b[0m\u001b[0m\n\u001b[0m\u001b[1;32m   1507\u001b[0m         \u001b[0;32mwith\u001b[0m \u001b[0msuppress\u001b[0m\u001b[0;34m(\u001b[0m\u001b[0mIndexingError\u001b[0m\u001b[0;34m)\u001b[0m\u001b[0;34m:\u001b[0m\u001b[0;34m\u001b[0m\u001b[0;34m\u001b[0m\u001b[0m\n\u001b[1;32m   1508\u001b[0m             \u001b[0;32mreturn\u001b[0m \u001b[0mself\u001b[0m\u001b[0;34m.\u001b[0m\u001b[0m_getitem_lowerdim\u001b[0m\u001b[0;34m(\u001b[0m\u001b[0mtup\u001b[0m\u001b[0;34m)\u001b[0m\u001b[0;34m\u001b[0m\u001b[0;34m\u001b[0m\u001b[0m\n",
            "\u001b[0;32m/usr/local/lib/python3.7/dist-packages/pandas/core/indexing.py\u001b[0m in \u001b[0;36m_has_valid_tuple\u001b[0;34m(self, key)\u001b[0m\n\u001b[1;32m    752\u001b[0m         \u001b[0;32mfor\u001b[0m \u001b[0mi\u001b[0m\u001b[0;34m,\u001b[0m \u001b[0mk\u001b[0m \u001b[0;32min\u001b[0m \u001b[0menumerate\u001b[0m\u001b[0;34m(\u001b[0m\u001b[0mkey\u001b[0m\u001b[0;34m)\u001b[0m\u001b[0;34m:\u001b[0m\u001b[0;34m\u001b[0m\u001b[0;34m\u001b[0m\u001b[0m\n\u001b[1;32m    753\u001b[0m             \u001b[0;32mtry\u001b[0m\u001b[0;34m:\u001b[0m\u001b[0;34m\u001b[0m\u001b[0;34m\u001b[0m\u001b[0m\n\u001b[0;32m--> 754\u001b[0;31m                 \u001b[0mself\u001b[0m\u001b[0;34m.\u001b[0m\u001b[0m_validate_key\u001b[0m\u001b[0;34m(\u001b[0m\u001b[0mk\u001b[0m\u001b[0;34m,\u001b[0m \u001b[0mi\u001b[0m\u001b[0;34m)\u001b[0m\u001b[0;34m\u001b[0m\u001b[0;34m\u001b[0m\u001b[0m\n\u001b[0m\u001b[1;32m    755\u001b[0m             \u001b[0;32mexcept\u001b[0m \u001b[0mValueError\u001b[0m \u001b[0;32mas\u001b[0m \u001b[0merr\u001b[0m\u001b[0;34m:\u001b[0m\u001b[0;34m\u001b[0m\u001b[0;34m\u001b[0m\u001b[0m\n\u001b[1;32m    756\u001b[0m                 raise ValueError(\n",
            "\u001b[0;32m/usr/local/lib/python3.7/dist-packages/pandas/core/indexing.py\u001b[0m in \u001b[0;36m_validate_key\u001b[0;34m(self, key, axis)\u001b[0m\n\u001b[1;32m   1407\u001b[0m             \u001b[0;32mreturn\u001b[0m\u001b[0;34m\u001b[0m\u001b[0;34m\u001b[0m\u001b[0m\n\u001b[1;32m   1408\u001b[0m         \u001b[0;32melif\u001b[0m \u001b[0mis_integer\u001b[0m\u001b[0;34m(\u001b[0m\u001b[0mkey\u001b[0m\u001b[0;34m)\u001b[0m\u001b[0;34m:\u001b[0m\u001b[0;34m\u001b[0m\u001b[0;34m\u001b[0m\u001b[0m\n\u001b[0;32m-> 1409\u001b[0;31m             \u001b[0mself\u001b[0m\u001b[0;34m.\u001b[0m\u001b[0m_validate_integer\u001b[0m\u001b[0;34m(\u001b[0m\u001b[0mkey\u001b[0m\u001b[0;34m,\u001b[0m \u001b[0maxis\u001b[0m\u001b[0;34m)\u001b[0m\u001b[0;34m\u001b[0m\u001b[0;34m\u001b[0m\u001b[0m\n\u001b[0m\u001b[1;32m   1410\u001b[0m         \u001b[0;32melif\u001b[0m \u001b[0misinstance\u001b[0m\u001b[0;34m(\u001b[0m\u001b[0mkey\u001b[0m\u001b[0;34m,\u001b[0m \u001b[0mtuple\u001b[0m\u001b[0;34m)\u001b[0m\u001b[0;34m:\u001b[0m\u001b[0;34m\u001b[0m\u001b[0;34m\u001b[0m\u001b[0m\n\u001b[1;32m   1411\u001b[0m             \u001b[0;31m# a tuple should already have been caught by this point\u001b[0m\u001b[0;34m\u001b[0m\u001b[0;34m\u001b[0m\u001b[0;34m\u001b[0m\u001b[0m\n",
            "\u001b[0;32m/usr/local/lib/python3.7/dist-packages/pandas/core/indexing.py\u001b[0m in \u001b[0;36m_validate_integer\u001b[0;34m(self, key, axis)\u001b[0m\n\u001b[1;32m   1498\u001b[0m         \u001b[0mlen_axis\u001b[0m \u001b[0;34m=\u001b[0m \u001b[0mlen\u001b[0m\u001b[0;34m(\u001b[0m\u001b[0mself\u001b[0m\u001b[0;34m.\u001b[0m\u001b[0mobj\u001b[0m\u001b[0;34m.\u001b[0m\u001b[0m_get_axis\u001b[0m\u001b[0;34m(\u001b[0m\u001b[0maxis\u001b[0m\u001b[0;34m)\u001b[0m\u001b[0;34m)\u001b[0m\u001b[0;34m\u001b[0m\u001b[0;34m\u001b[0m\u001b[0m\n\u001b[1;32m   1499\u001b[0m         \u001b[0;32mif\u001b[0m \u001b[0mkey\u001b[0m \u001b[0;34m>=\u001b[0m \u001b[0mlen_axis\u001b[0m \u001b[0;32mor\u001b[0m \u001b[0mkey\u001b[0m \u001b[0;34m<\u001b[0m \u001b[0;34m-\u001b[0m\u001b[0mlen_axis\u001b[0m\u001b[0;34m:\u001b[0m\u001b[0;34m\u001b[0m\u001b[0;34m\u001b[0m\u001b[0m\n\u001b[0;32m-> 1500\u001b[0;31m             \u001b[0;32mraise\u001b[0m \u001b[0mIndexError\u001b[0m\u001b[0;34m(\u001b[0m\u001b[0;34m\"single positional indexer is out-of-bounds\"\u001b[0m\u001b[0;34m)\u001b[0m\u001b[0;34m\u001b[0m\u001b[0;34m\u001b[0m\u001b[0m\n\u001b[0m\u001b[1;32m   1501\u001b[0m \u001b[0;34m\u001b[0m\u001b[0m\n\u001b[1;32m   1502\u001b[0m     \u001b[0;31m# -------------------------------------------------------------------\u001b[0m\u001b[0;34m\u001b[0m\u001b[0;34m\u001b[0m\u001b[0;34m\u001b[0m\u001b[0m\n",
            "\u001b[0;31mIndexError\u001b[0m: single positional indexer is out-of-bounds"
          ]
        }
      ]
    },
    {
      "cell_type": "code",
      "source": [
        "#import pickle\n",
        "#with open('/content/drive/MyDrive/100/100_glow.pkl','wb') as file:\n",
        "    #pickle.dump(glov_100_acc,file)\n",
        "    #file.close()\n",
        "    "
      ],
      "metadata": {
        "id": "h9BAABiwgKHS"
      },
      "execution_count": null,
      "outputs": []
    },
    {
      "cell_type": "markdown",
      "source": [
        "**CBow**"
      ],
      "metadata": {
        "id": "msmlGEgggnyZ"
      }
    },
    {
      "cell_type": "code",
      "source": [
        "from gensim.models import Word2Vec\n",
        "from gensim.models import FastText\n",
        "cbow_mod = Word2Vec.load(\"hi/100/cbow/hi-d100-m2-cbow.model\")"
      ],
      "metadata": {
        "id": "0nxKUR-8QCPr"
      },
      "execution_count": null,
      "outputs": []
    },
    {
      "cell_type": "code",
      "source": [
        "cbow_100_acc = []\n",
        "for i in terms:\n",
        "    aa = cbow_mod.wv[i[0]]\n",
        "    bb = cbow_mod.wv[i[1]]\n",
        "    a = np.sum(np.dot(aa,bb))\n",
        "    b = 0 \n",
        "    for i in range(len(aa)):\n",
        "      b = b + aa[i]*aa[i]\n",
        "    b = b**.5\n",
        "    c = 0\n",
        "    for i in range(len(bb)):\n",
        "      c = c + bb[i]*bb[i]\n",
        "    c = c**.5\n",
        "    x = a/(b*c)\n",
        "    cbow_100_acc.append(x)\n",
        "    \n",
        "    "
      ],
      "metadata": {
        "id": "ZxfoJ5QbNVYC"
      },
      "execution_count": null,
      "outputs": []
    },
    {
      "cell_type": "code",
      "source": [
        "cbow_100_acc"
      ],
      "metadata": {
        "colab": {
          "base_uri": "https://localhost:8080/"
        },
        "id": "spkMcoV6jzy2",
        "outputId": "a3729ce4-5516-42bc-e6d5-078155c6ed38"
      },
      "execution_count": null,
      "outputs": [
        {
          "output_type": "execute_result",
          "data": {
            "text/plain": [
              "[0.29072815745917613,\n",
              " 0.4952309604909971,\n",
              " 0.497515237094745,\n",
              " 0.710952945943345,\n",
              " 0.7576692232010964,\n",
              " 0.567121111027142,\n",
              " 0.6380333346774864,\n",
              " 0.3896820577399583,\n",
              " 0.7579631391999757,\n",
              " 0.3863353770530509,\n",
              " 0.7405225742024781,\n",
              " 0.7609177268117657,\n",
              " 0.681550082456485,\n",
              " 0.4183706416265249,\n",
              " 0.41178020446221475,\n",
              " 0.09589300518227868,\n",
              " 0.5665164053709719,\n",
              " 0.27171656751666545,\n",
              " 0.37189342291897143,\n",
              " 0.4945583595201164,\n",
              " 0.019245507508127473,\n",
              " 0.6203162418287765,\n",
              " -0.07920496835195363,\n",
              " 0.47728086982124207,\n",
              " 0.09219293926773145,\n",
              " 0.6648805005764451,\n",
              " 0.8329902405758108,\n",
              " 0.7287213008820216,\n",
              " 0.7290949809334247,\n",
              " 0.2688057919683725,\n",
              " 0.3462348996238382,\n",
              " 0.18384399335333043,\n",
              " 0.22521237804507166,\n",
              " 0.4249257882182748,\n",
              " 0.006323736401109906,\n",
              " 0.08611553375513625,\n",
              " 0.1890243752480492,\n",
              " 0.48811590072236055,\n",
              " 0.1711048532344595,\n",
              " 0.2907707875880475,\n",
              " 0.7090319231572735,\n",
              " 0.5576592282876937,\n",
              " 0.8298599584312137,\n",
              " 0.19574222522624812,\n",
              " 0.3094046998103908,\n",
              " 0.18205593967409234,\n",
              " 0.2560524681338648,\n",
              " 0.2168049254234019,\n",
              " 0.6089305975515834,\n",
              " 0.41085201256141385,\n",
              " 0.37189342291897143,\n",
              " 0.3572857232724426,\n",
              " 0.09393736652657282,\n",
              " 0.21166876076398394,\n",
              " 0.6607554727074185,\n",
              " 0.5781770486613677,\n",
              " 0.13594138486852084,\n",
              " -0.08221645676619857,\n",
              " 0.2798533717465959,\n",
              " 0.22576478762828986,\n",
              " 0.3823003536625258,\n",
              " 0.20537530058329992,\n",
              " 0.3799626918480171,\n",
              " 0.7578861599296633,\n",
              " 0.45841068034111887]"
            ]
          },
          "metadata": {},
          "execution_count": 10
        }
      ]
    },
    {
      "cell_type": "code",
      "source": [
        "#import pickle\n",
        "#with open('/100/100_cbow.pkl','wb') as file:\n",
        "    #pickle.dump(cbow_100_acc,file)\n",
        "    #file.close()"
      ],
      "metadata": {
        "id": "vI4T2V1mZCPt"
      },
      "execution_count": null,
      "outputs": []
    },
    {
      "cell_type": "markdown",
      "source": [
        ""
      ],
      "metadata": {
        "id": "nyLFIaQklLb9"
      }
    },
    {
      "cell_type": "code",
      "source": [
        ""
      ],
      "metadata": {
        "colab": {
          "base_uri": "https://localhost:8080/"
        },
        "id": "1q4pcaeKMq5K",
        "outputId": "722d287f-bad1-4211-fa88-f8cb5c400563"
      },
      "execution_count": null,
      "outputs": [
        {
          "output_type": "execute_result",
          "data": {
            "text/plain": [
              "88"
            ]
          },
          "metadata": {},
          "execution_count": 10
        }
      ]
    },
    {
      "cell_type": "markdown",
      "source": [
        "**skip gram**"
      ],
      "metadata": {
        "id": "ApXiU3WjkBzg"
      }
    },
    {
      "cell_type": "code",
      "source": [
        "from gensim.models import Word2Vec\n",
        "from gensim.models import FastText\n",
        "skipg_mod = Word2Vec.load(\"hi/100/sg/hi-d100-m2-sg.model\")"
      ],
      "metadata": {
        "id": "JFER12ceNJAL"
      },
      "execution_count": null,
      "outputs": []
    },
    {
      "cell_type": "code",
      "source": [
        "skip_100_acc = []\n",
        "for i in terms:\n",
        "    aa = skipg_mod.wv[i[0]]\n",
        "    bb = skipg_mod.wv[i[1]]\n",
        "    a = np.sum(np.dot(aa,bb))\n",
        "    b = 0 \n",
        "    for i in range(len(aa)):\n",
        "      b = b + aa[i]*aa[i]\n",
        "    b = b**.5\n",
        "    c = 0\n",
        "    for i in range(len(bb)):\n",
        "      c = c + bb[i]*bb[i]\n",
        "    c = c**.5\n",
        "    x = a/(b*c)\n",
        "    skip_100_acc.append(x)"
      ],
      "metadata": {
        "id": "Ald2EoZNkYCe"
      },
      "execution_count": null,
      "outputs": []
    },
    {
      "cell_type": "code",
      "source": [
        "#import pickle\n",
        "#with open('/content/drive/MyDrive/100/100_skip.pkl','wb') as file:\n",
        "    #pickle.dump(skip_100_acc,file)\n",
        "    #file.close()\n",
        "    "
      ],
      "metadata": {
        "id": "OPJfZaApaF-f"
      },
      "execution_count": null,
      "outputs": []
    },
    {
      "cell_type": "markdown",
      "source": [
        "**skip gram**"
      ],
      "metadata": {
        "id": "l4suVCpcaWrj"
      }
    },
    {
      "cell_type": "markdown",
      "source": [
        "**fast text**"
      ],
      "metadata": {
        "id": "t7QrwKTZlN0P"
      }
    },
    {
      "cell_type": "code",
      "source": [
        "from gensim.models import FastText\n",
        "fast_mod = FastText.load(\"hi/100/fasttext/hi-d100-m2-fasttext.model\")"
      ],
      "metadata": {
        "id": "a9tjqYfplIVR"
      },
      "execution_count": null,
      "outputs": []
    },
    {
      "cell_type": "code",
      "source": [
        "fast_100_acc = []\n",
        "for i in terms:\n",
        "    aa = fast_mod.wv[i[0]]\n",
        "    bb = fast_mod.wv[i[1]]\n",
        "    a = np.sum(np.dot(aa,bb))\n",
        "    b = 0 \n",
        "    for i in range(len(aa)):\n",
        "      b = b + aa[i]*aa[i]\n",
        "    b = b**.5\n",
        "    c = 0\n",
        "    for i in range(len(bb)):\n",
        "      c = c + bb[i]*bb[i]\n",
        "    c = c**.5\n",
        "    x = a/(b*c)\n",
        "    fast_100_acc.append(x)"
      ],
      "metadata": {
        "id": "lQaDYp6MMYmH"
      },
      "execution_count": null,
      "outputs": []
    },
    {
      "cell_type": "code",
      "source": [
        "#import pickle\n",
        "#with open('/content/drive/MyDrive/100/100_fast.pkl','wb') as file:\n",
        "    #pickle.dump(fast_100_acc,file)\n",
        "    #file.close()"
      ],
      "metadata": {
        "id": "8x0dH2QyM6BO"
      },
      "execution_count": null,
      "outputs": []
    },
    {
      "cell_type": "markdown",
      "source": [
        "glov accuracy"
      ],
      "metadata": {
        "id": "w2juBXw8Nhcg"
      }
    },
    {
      "cell_type": "markdown",
      "source": [
        ""
      ],
      "metadata": {
        "id": "feaHFBLNOIKb"
      }
    },
    {
      "cell_type": "code",
      "source": [
        "import pickle\n",
        "with open(\"100_glow.pkl\",'rb') as f:\n",
        "  glov_100_acc = pickle.load(f)\n",
        "  f.close()"
      ],
      "metadata": {
        "id": "ME13-Z5-NkBg"
      },
      "execution_count": null,
      "outputs": []
    },
    {
      "cell_type": "code",
      "source": [
        "print('accuracy test for glov')\n",
        "thre =  [.4,.5,.6,.7,.8]\n",
        "for i in thre:\n",
        "  df = pd.DataFrame({'Word1':'','Word2':'','Similarity Score':'','Ground Truth':'','Label':''},index=[0])\n",
        "  k = 0\n",
        "  for j in range(len(glov_100_acc)):\n",
        "    if(float(truth[j]) > 10*i):\n",
        "      if(glov_100_acc[j] > i):\n",
        "        x =1\n",
        "        k = k+x\n",
        "    else:\n",
        "      if(glov_100_acc[j] <= 10*i):\n",
        "        x =1\n",
        "        k = k+x\n",
        "  k = k /len(truth)\n",
        "  temp = pd.DataFrame({'Word1':'accuracy','Word2':'','Similarity Score':'','Ground Truth':'','Label':k},index =[0])\n",
        "  df = pd.concat([df,temp],axis = 0)\n",
        "  df.to_csv('Q1_glov100_similarity_' + str(i) + '.csv')\n",
        "  print(\"accuracy for threshold value\" + \" \" + str(i),k )"
      ],
      "metadata": {
        "colab": {
          "base_uri": "https://localhost:8080/"
        },
        "id": "R_Wb1y0yN61g",
        "outputId": "55bd0056-6658-4d44-b503-4ccfbf3c9c56"
      },
      "execution_count": null,
      "outputs": [
        {
          "output_type": "stream",
          "name": "stdout",
          "text": [
            "accuracy test for glov\n",
            "accuracy for threshold value 0.4 0.8\n",
            "accuracy for threshold value 0.5 0.6461538461538462\n",
            "accuracy for threshold value 0.6 0.47692307692307695\n",
            "accuracy for threshold value 0.7 0.6615384615384615\n",
            "accuracy for threshold value 0.8 0.8769230769230769\n"
          ]
        }
      ]
    },
    {
      "cell_type": "markdown",
      "source": [
        "cbow accuracy"
      ],
      "metadata": {
        "id": "FNbkzPtLOLel"
      }
    },
    {
      "cell_type": "code",
      "source": [
        "import pickle\n",
        "with open(\"100_cbow.pkl\",'rb') as f:\n",
        "  cbow_100_acc = pickle.load(f)\n",
        "  f.close()"
      ],
      "metadata": {
        "id": "v68dKKliOOkk"
      },
      "execution_count": null,
      "outputs": []
    },
    {
      "cell_type": "code",
      "source": [
        "print('accuracy test for cbow')\n",
        "thre =  [.4,.5,.6,.7,.8]\n",
        "for i in thre:\n",
        "  df = pd.DataFrame({'Word1':'','Word2':'','Similarity Score':'','Ground Truth':'','Label':''},index=[0])\n",
        "  k = 0\n",
        "  for j in range(len(cbow_100_acc)):\n",
        "    if(float(truth[j]) > 10*i):\n",
        "      if(cbow_100_acc[j] > i):\n",
        "        x =1\n",
        "        k = k+x\n",
        "    else:\n",
        "      if(cbow_100_acc[j] <= 10*i):\n",
        "        x =1\n",
        "        k = k+x\n",
        "  k = k /len(truth)\n",
        "  temp = pd.DataFrame({'Word1':'accuracy','Word2':'','Similarity Score':'','Ground Truth':'','Label':k},index =[0])\n",
        "  df = pd.concat([df,temp],axis = 0)\n",
        "  df.to_csv('Q1_cbow100_similarity_' + str(i) + '.csv')\n",
        "  print(\"accuracy for threshold value\" + \" \" + str(i),k )"
      ],
      "metadata": {
        "colab": {
          "base_uri": "https://localhost:8080/"
        },
        "id": "Br3wj_x6OXRM",
        "outputId": "33994f20-feaa-4246-a9a1-67ae88271143"
      },
      "execution_count": null,
      "outputs": [
        {
          "output_type": "stream",
          "name": "stdout",
          "text": [
            "accuracy test for cbow\n",
            "accuracy for threshold value 0.4 0.6153846153846154\n",
            "accuracy for threshold value 0.5 0.49230769230769234\n",
            "accuracy for threshold value 0.6 0.49230769230769234\n",
            "accuracy for threshold value 0.7 0.7076923076923077\n",
            "accuracy for threshold value 0.8 0.8923076923076924\n"
          ]
        }
      ]
    },
    {
      "cell_type": "markdown",
      "source": [
        "sg"
      ],
      "metadata": {
        "id": "g5enddVvOnEU"
      }
    },
    {
      "cell_type": "code",
      "source": [
        "import pickle\n",
        "with open(\"100_skip.pkl\",'rb') as f:\n",
        "  sg_100_acc = pickle.load(f)\n",
        "  f.close()"
      ],
      "metadata": {
        "id": "KdJQB8LgOprN"
      },
      "execution_count": null,
      "outputs": []
    },
    {
      "cell_type": "code",
      "source": [
        "print('accuracy test for sg')\n",
        "thre =  [.4,.5,.6,.7,.8]\n",
        "for i in thre:\n",
        "  df = pd.DataFrame({'Word1':'','Word2':'','Similarity Score':'','Ground Truth':'','Label':''},index=[0])\n",
        "  \n",
        "  k = 0\n",
        "  for j in range(len(sg_100_acc)):\n",
        "    if(float(truth[j]) > 10*i):\n",
        "      if(sg_100_acc[j] > i):\n",
        "      \n",
        "        x =1\n",
        "        k = k+x\n",
        "    else:\n",
        "      if(sg_100_acc[j] <= 10*i):\n",
        "        x =1\n",
        "        k = k+x\n",
        "  k = k /len(truth)\n",
        "  temp = pd.DataFrame({'Word1':'accuracy','Word2':'','Similarity Score':'','Ground Truth':'','Label':k},index =[0])\n",
        "  df = pd.concat([df,temp],axis = 0)\n",
        "  df.to_csv('Q1_sg100_similarity_' + str(i) + '.csv')\n",
        "  print(\"accuracy for threshold value\" + \" \" + str(i),k )"
      ],
      "metadata": {
        "colab": {
          "base_uri": "https://localhost:8080/"
        },
        "id": "OK_4Jp6MO1Jv",
        "outputId": "d333b3c1-994e-4bd5-fe60-c373f606a0fc"
      },
      "execution_count": null,
      "outputs": [
        {
          "output_type": "stream",
          "name": "stdout",
          "text": [
            "accuracy test for sg\n",
            "accuracy for threshold value 0.4 0.8923076923076924\n",
            "accuracy for threshold value 0.5 0.6461538461538462\n",
            "accuracy for threshold value 0.6 0.5384615384615384\n",
            "accuracy for threshold value 0.7 0.7230769230769231\n",
            "accuracy for threshold value 0.8 0.8923076923076924\n"
          ]
        }
      ]
    },
    {
      "cell_type": "markdown",
      "source": [
        "fast text"
      ],
      "metadata": {
        "id": "NkS3mSBSO-L8"
      }
    },
    {
      "cell_type": "code",
      "source": [
        "import pickle\n",
        "with open(\"100_fast.pkl\",'rb') as f:\n",
        "  fast_100_acc = pickle.load(f)\n",
        "  f.close()"
      ],
      "metadata": {
        "id": "Hw0xt21fPAeu"
      },
      "execution_count": null,
      "outputs": []
    },
    {
      "cell_type": "code",
      "source": [
        "print('accuracy test for fasttext')\n",
        "thre =  [.4,.5,.6,.7,.8]\n",
        "for i in thre:\n",
        "  k = 0\n",
        "  df = pd.DataFrame({'Word1':'','Word2':'','Similarity Score':'','Ground Truth':'','Label':''},index=[0])\n",
        "  for j in range(len(fast_100_acc)):\n",
        "    if(float(truth[j]) > 10*i):\n",
        "      if(fast_100_acc[j] > i):\n",
        "        x =1\n",
        "        k = k+x\n",
        "    else:\n",
        "      if(fast_100_acc[j] <= 10*i):\n",
        "        x =1\n",
        "        k = k+x\n",
        "  k = k /len(truth)\n",
        "  temp = pd.DataFrame({'Word1':'accuracy','Word2':'','Similarity Score':'','Ground Truth':'','Label':k},index =[0])\n",
        "  df = pd.concat([df,temp],axis = 0)\n",
        "  df.to_csv('Q1_fasttext100_similarity_' + str(i) + '.csv')\n",
        "  print(\"accuracy for threshold value\" + \" \" + str(i),k )"
      ],
      "metadata": {
        "colab": {
          "base_uri": "https://localhost:8080/"
        },
        "id": "5r5x-JOEPHIN",
        "outputId": "6c88e725-8505-433f-f36d-e247e173ea1f"
      },
      "execution_count": null,
      "outputs": [
        {
          "output_type": "stream",
          "name": "stdout",
          "text": [
            "accuracy test for fasttext\n",
            "accuracy for threshold value 0.4 0.8923076923076924\n",
            "accuracy for threshold value 0.5 0.6923076923076923\n",
            "accuracy for threshold value 0.6 0.5076923076923077\n",
            "accuracy for threshold value 0.7 0.7384615384615385\n",
            "accuracy for threshold value 0.8 0.8923076923076924\n"
          ]
        }
      ]
    }
  ]
}
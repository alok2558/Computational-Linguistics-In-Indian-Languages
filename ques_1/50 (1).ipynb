{
  "nbformat": 4,
  "nbformat_minor": 0,
  "metadata": {
    "colab": {
      "name": "50.ipynb",
      "provenance": [],
      "collapsed_sections": []
    },
    "kernelspec": {
      "name": "python3",
      "display_name": "Python 3"
    },
    "language_info": {
      "name": "python"
    }
  },
  "cells": [
    {
      "cell_type": "code",
      "execution_count": null,
      "metadata": {
        "id": "rANPOc-ebM0W"
      },
      "outputs": [],
      "source": [
        "import numpy as np\n",
        "import pandas as pd\n",
        "import glob"
      ]
    },
    {
      "cell_type": "code",
      "source": [
        "from google.colab import drive\n",
        "drive.mount('/content/drive')"
      ],
      "metadata": {
        "colab": {
          "base_uri": "https://localhost:8080/"
        },
        "id": "mo_Qd05vbTe5",
        "outputId": "9f793f74-57cf-4d44-8bac-1a2706ddc544"
      },
      "execution_count": null,
      "outputs": [
        {
          "output_type": "stream",
          "name": "stdout",
          "text": [
            "Mounted at /content/drive\n"
          ]
        }
      ]
    },
    {
      "cell_type": "code",
      "source": [
        "file_folder = r\"hindi.txt\"\n",
        "file =  open(file_folder,\"rb\")\n",
        "tex = file.read()"
      ],
      "metadata": {
        "id": "qb39VjonbzCi"
      },
      "execution_count": null,
      "outputs": []
    },
    {
      "cell_type": "code",
      "source": [
        "terms[0]"
      ],
      "metadata": {
        "colab": {
          "base_uri": "https://localhost:8080/"
        },
        "id": "HEhZ3i-NxBak",
        "outputId": "0c0228e7-ac74-42b0-bc90-3d2598d8147d"
      },
      "execution_count": null,
      "outputs": [
        {
          "output_type": "execute_result",
          "data": {
            "text/plain": [
              "['मोहब्बत', 'सेक्स']"
            ]
          },
          "metadata": {},
          "execution_count": 10
        }
      ]
    },
    {
      "cell_type": "code",
      "source": [
        "terms = []\n",
        "truth =[]\n",
        "for word in tex.decode(errors = 'replace').split('\\n'):\n",
        "  temp = []\n",
        "  word = word.split(\",\")\n",
        "  temp.append(word[0])\n",
        "  temp.append(word[1])\n",
        "  terms.append(temp)\n",
        "  truth.append(word[2].split('\\r')[0])\n"
      ],
      "metadata": {
        "id": "RculTrG0b1Lr",
        "colab": {
          "base_uri": "https://localhost:8080/",
          "height": 234
        },
        "outputId": "3d232f80-614d-4662-9e70-dc0e820c6a9a"
      },
      "execution_count": null,
      "outputs": [
        {
          "output_type": "error",
          "ename": "IndexError",
          "evalue": "ignored",
          "traceback": [
            "\u001b[0;31m---------------------------------------------------------------------------\u001b[0m",
            "\u001b[0;31mIndexError\u001b[0m                                Traceback (most recent call last)",
            "\u001b[0;32m<ipython-input-8-2adfcb335797>\u001b[0m in \u001b[0;36m<module>\u001b[0;34m()\u001b[0m\n\u001b[1;32m      5\u001b[0m   \u001b[0mword\u001b[0m \u001b[0;34m=\u001b[0m \u001b[0mword\u001b[0m\u001b[0;34m.\u001b[0m\u001b[0msplit\u001b[0m\u001b[0;34m(\u001b[0m\u001b[0;34m\",\"\u001b[0m\u001b[0;34m)\u001b[0m\u001b[0;34m\u001b[0m\u001b[0;34m\u001b[0m\u001b[0m\n\u001b[1;32m      6\u001b[0m   \u001b[0mtemp\u001b[0m\u001b[0;34m.\u001b[0m\u001b[0mappend\u001b[0m\u001b[0;34m(\u001b[0m\u001b[0mword\u001b[0m\u001b[0;34m[\u001b[0m\u001b[0;36m0\u001b[0m\u001b[0;34m]\u001b[0m\u001b[0;34m)\u001b[0m\u001b[0;34m\u001b[0m\u001b[0;34m\u001b[0m\u001b[0m\n\u001b[0;32m----> 7\u001b[0;31m   \u001b[0mtemp\u001b[0m\u001b[0;34m.\u001b[0m\u001b[0mappend\u001b[0m\u001b[0;34m(\u001b[0m\u001b[0mword\u001b[0m\u001b[0;34m[\u001b[0m\u001b[0;36m1\u001b[0m\u001b[0;34m]\u001b[0m\u001b[0;34m)\u001b[0m\u001b[0;34m\u001b[0m\u001b[0;34m\u001b[0m\u001b[0m\n\u001b[0m\u001b[1;32m      8\u001b[0m   \u001b[0mterms\u001b[0m\u001b[0;34m.\u001b[0m\u001b[0mappend\u001b[0m\u001b[0;34m(\u001b[0m\u001b[0mtemp\u001b[0m\u001b[0;34m)\u001b[0m\u001b[0;34m\u001b[0m\u001b[0;34m\u001b[0m\u001b[0m\n\u001b[1;32m      9\u001b[0m   \u001b[0mtruth\u001b[0m\u001b[0;34m.\u001b[0m\u001b[0mappend\u001b[0m\u001b[0;34m(\u001b[0m\u001b[0mword\u001b[0m\u001b[0;34m[\u001b[0m\u001b[0;36m2\u001b[0m\u001b[0;34m]\u001b[0m\u001b[0;34m.\u001b[0m\u001b[0msplit\u001b[0m\u001b[0;34m(\u001b[0m\u001b[0;34m'\\r'\u001b[0m\u001b[0;34m)\u001b[0m\u001b[0;34m[\u001b[0m\u001b[0;36m0\u001b[0m\u001b[0;34m]\u001b[0m\u001b[0;34m)\u001b[0m\u001b[0;34m\u001b[0m\u001b[0;34m\u001b[0m\u001b[0m\n",
            "\u001b[0;31mIndexError\u001b[0m: list index out of range"
          ]
        }
      ]
    },
    {
      "cell_type": "code",
      "source": [
        "truth"
      ],
      "metadata": {
        "colab": {
          "base_uri": "https://localhost:8080/"
        },
        "id": "QgpioFdTPzcs",
        "outputId": "dd41a980-9c46-41cb-9b77-a19f6d89485b"
      },
      "execution_count": null,
      "outputs": [
        {
          "output_type": "execute_result",
          "data": {
            "text/plain": [
              "['6.8',\n",
              " '7.0',\n",
              " '7.6',\n",
              " '7.6',\n",
              " '8.0',\n",
              " '6.0',\n",
              " '6.2',\n",
              " '7.6',\n",
              " '6.4',\n",
              " '5.8',\n",
              " '6.6',\n",
              " '5.8',\n",
              " '7.6',\n",
              " '4.6',\n",
              " '7.0',\n",
              " '5.2',\n",
              " '6.2',\n",
              " '7.6',\n",
              " '8.0',\n",
              " '7.0',\n",
              " '0.0',\n",
              " '8.2',\n",
              " '7.0',\n",
              " '7.8',\n",
              " '1.0',\n",
              " '7.8',\n",
              " '9.0',\n",
              " '6.4',\n",
              " '5.8',\n",
              " '7.4',\n",
              " '7.8',\n",
              " '6.6',\n",
              " '6.6',\n",
              " '8.4',\n",
              " '1.4',\n",
              " '0.4',\n",
              " '7.0',\n",
              " '7.2',\n",
              " '1.8',\n",
              " '6.8',\n",
              " '8.4',\n",
              " '6.6',\n",
              " '7.4',\n",
              " '1.4',\n",
              " '6.2',\n",
              " '0.2',\n",
              " '2.0',\n",
              " '8.6',\n",
              " '9.2',\n",
              " '8.4',\n",
              " '8.2',\n",
              " '6.6',\n",
              " '2.6',\n",
              " '8.0',\n",
              " '7.6',\n",
              " '6.8',\n",
              " '6.2',\n",
              " '5.2',\n",
              " '7.0',\n",
              " '6.4',\n",
              " '7.0',\n",
              " '7.4',\n",
              " '6.2',\n",
              " '7.0',\n",
              " '4.2']"
            ]
          },
          "metadata": {},
          "execution_count": 5
        }
      ]
    },
    {
      "cell_type": "markdown",
      "source": [
        "**bGLOV**"
      ],
      "metadata": {
        "id": "6c1HVbCxcGv4"
      }
    },
    {
      "cell_type": "code",
      "source": [
        "import pandas as pd\n",
        "df = pd.read_csv(r\"hi/50/glove/hi-d50-glove.txt\",sep = \" \",encoding = \"utf-8\",encoding_errors = 'ignore',header = None)\n"
      ],
      "metadata": {
        "id": "5VPjpdLncPcr"
      },
      "execution_count": null,
      "outputs": []
    },
    {
      "cell_type": "code",
      "source": [
        "glov_50_acc  = []\n",
        "for word in tex.decode(errors = 'replace').split('\\n'):\n",
        "    word = word.split(\",\")\n",
        "\n",
        "    a_word = word[0]\n",
        "    temp = df[df.iloc[:,0] == a_word]\n",
        "    \n",
        "    aa = temp.iloc[:,[i for i in range(1,51)]]\n",
        "    \n",
        "    aa= aa.T\n",
        "    aa = list(aa.iloc[:,0])\n",
        "    b_word =  word[1]\n",
        "    temp = df[df.iloc[:,0] == b_word]\n",
        "    bb = temp.iloc[:,[i for i in range(1,51)]]\n",
        "    bb = bb.T\n",
        "    bb = list(bb.iloc[:,0])\n",
        "    a = np.sum(np.dot(aa,bb))\n",
        "    b = 0 \n",
        "    for i in range(len(aa)):\n",
        "      b = b + aa[i]*aa[i]\n",
        "    b = b**.5\n",
        "    c = 0\n",
        "    for i in range(len(bb)):\n",
        "      c = c + bb[i]*bb[i]\n",
        "    c = c**.5\n",
        "    x = a/(b*c)\n",
        "    print(x)\n",
        "    glov_50_acc.append(x)\n",
        "    "
      ],
      "metadata": {
        "colab": {
          "base_uri": "https://localhost:8080/"
        },
        "id": "5-vFb3rScTzt",
        "outputId": "4d2d730d-861e-4800-a806-258950899aef"
      },
      "execution_count": null,
      "outputs": [
        {
          "output_type": "stream",
          "name": "stdout",
          "text": [
            "0.4330525515682617\n",
            "0.5996534732116199\n",
            "0.6407840596167472\n",
            "0.6321789173646061\n",
            "0.7983269038764392\n",
            "0.716845421573339\n",
            "0.6551093580696057\n",
            "0.5788380860275757\n",
            "0.7840642087928094\n",
            "0.653408887281267\n",
            "0.6941811266461262\n",
            "0.6759384410546387\n",
            "0.7424001615115942\n",
            "0.5708070919917191\n",
            "0.5271255087557388\n",
            "0.4578795249114899\n",
            "0.6331541638269977\n",
            "0.48342250830431827\n",
            "0.666735944384278\n",
            "0.6436089425758054\n",
            "-0.010984559597152723\n",
            "0.7502501604213005\n",
            "0.07675898883789921\n",
            "0.5481491859986948\n",
            "0.4157187957846372\n",
            "0.4078155523780666\n",
            "0.7987559478759984\n",
            "0.670459346082613\n",
            "0.6750377953592468\n",
            "0.4488102224094882\n",
            "0.6453000409807623\n",
            "0.16246275004196156\n",
            "0.4131037789234437\n",
            "0.5338535630086322\n",
            "0.2471587128667906\n",
            "0.4376610573019111\n",
            "0.4646349850259819\n",
            "0.7309494708307288\n",
            "0.4227932408837872\n",
            "0.3514596796963713\n",
            "0.6328404566957587\n",
            "0.7645974623477272\n",
            "0.7725168251616216\n",
            "0.4921555571843182\n",
            "0.5762995881376023\n",
            "0.333901067673915\n",
            "0.3326064134283916\n",
            "0.6116830587554429\n",
            "0.7875886551570932\n",
            "0.6881062616732144\n",
            "0.666735944384278\n",
            "0.7138369207216309\n",
            "0.35368560282927497\n",
            "0.27372658081397044\n",
            "0.7750575951461414\n",
            "0.6412073878855109\n",
            "0.4371106433043219\n",
            "0.3298727341824547\n",
            "0.441673080969221\n",
            "0.45317760398999885\n",
            "0.6010799296218425\n",
            "0.38086677788167966\n",
            "0.5971482020670135\n",
            "0.8304848531739678\n",
            "0.6143223472503146\n"
          ]
        }
      ]
    },
    {
      "cell_type": "code",
      "source": [
        " glov_50_acc"
      ],
      "metadata": {
        "colab": {
          "base_uri": "https://localhost:8080/"
        },
        "id": "UGim_RUmUWbP",
        "outputId": "1803851f-e424-4cf2-8592-2b52ea0b6607"
      },
      "execution_count": null,
      "outputs": [
        {
          "output_type": "execute_result",
          "data": {
            "text/plain": [
              "[]"
            ]
          },
          "metadata": {},
          "execution_count": 26
        }
      ]
    },
    {
      "cell_type": "code",
      "source": [
        "#import pickle\n",
        "#with open('hi/50/50_glow.pkl','wb') as file:\n",
        "    #pickle.dump(glov_50_acc,file)\n",
        "    #file.close()\n",
        "    "
      ],
      "metadata": {
        "id": "lrXq_hiqdajd"
      },
      "execution_count": null,
      "outputs": []
    },
    {
      "cell_type": "code",
      "source": [
        ""
      ],
      "metadata": {
        "id": "6DIkqjyTdgRP"
      },
      "execution_count": null,
      "outputs": []
    },
    {
      "cell_type": "markdown",
      "source": [
        "**CBow**"
      ],
      "metadata": {
        "id": "A1vDq5Xcdmgm"
      }
    },
    {
      "cell_type": "code",
      "source": [
        "from gensim.models import Word2Vec\n",
        "from gensim.models import FastText\n",
        "cbow_mod = Word2Vec.load(\"hi/50/cbow/hi-d50-m2-cbow.model\")"
      ],
      "metadata": {
        "id": "3tCu2Fh5d53L"
      },
      "execution_count": null,
      "outputs": []
    },
    {
      "cell_type": "code",
      "source": [
        "cbow_50_acc = []\n",
        "for i in terms:\n",
        "    aa = cbow_mod.wv[i[0]]\n",
        "    bb = cbow_mod.wv[i[1]]\n",
        "    a = np.sum(np.dot(aa,bb))\n",
        "    b = 0 \n",
        "    for i in range(len(aa)):\n",
        "      b = b + aa[i]*aa[i]\n",
        "    b = b**.5\n",
        "    c = 0\n",
        "    for i in range(len(bb)):\n",
        "      c = c + bb[i]*bb[i]\n",
        "    c = c**.5\n",
        "    x = a/(b*c)\n",
        "    cbow_50_acc.append(x)\n",
        "    "
      ],
      "metadata": {
        "id": "l_jX8mvieBSw"
      },
      "execution_count": null,
      "outputs": []
    },
    {
      "cell_type": "code",
      "source": [
        "#import pickle\n",
        "#with open('hi/50/50_cbow.pkl','wb') as file:\n",
        "    #pickle.dump(cbow_50_acc,file)\n",
        "    #file.close()"
      ],
      "metadata": {
        "id": "rYkTZ7r4eT3A"
      },
      "execution_count": null,
      "outputs": []
    },
    {
      "cell_type": "code",
      "source": [
        ""
      ],
      "metadata": {
        "id": "zpXur_n6b_5K"
      },
      "execution_count": null,
      "outputs": []
    },
    {
      "cell_type": "markdown",
      "source": [
        "sg"
      ],
      "metadata": {
        "id": "dh8wPiuyyvSl"
      }
    },
    {
      "cell_type": "code",
      "source": [
        "from gensim.models import Word2Vec\n",
        "from gensim.models import FastText\n",
        "sg_mod = Word2Vec.load(\"hi/50/sg/hi-d50-m2-sg.model\")"
      ],
      "metadata": {
        "id": "fnnLfKSZyww1"
      },
      "execution_count": null,
      "outputs": []
    },
    {
      "cell_type": "code",
      "source": [
        "sg_50_acc = []\n",
        "for i in terms:\n",
        "    aa = sg_mod.wv[i[0]]\n",
        "    bb = sg_mod.wv[i[1]]\n",
        "    a = np.sum(np.dot(aa,bb))\n",
        "    b = 0 \n",
        "    for i in range(len(aa)):\n",
        "      b = b + aa[i]*aa[i]\n",
        "    b = b**.5\n",
        "    c = 0\n",
        "    for i in range(len(bb)):\n",
        "      c = c + bb[i]*bb[i]\n",
        "    c = c**.5\n",
        "    x = a/(b*c)\n",
        "    sg_50_acc.append(x)"
      ],
      "metadata": {
        "id": "SyHD8uGzy3nH"
      },
      "execution_count": null,
      "outputs": []
    },
    {
      "cell_type": "code",
      "source": [
        "#import pickle\n",
        "#with open('/content/drive/MyDrive/50/50_sg.pkl','wb') as file:\n",
        "    #pickle.dump(sg_50_acc,file)\n",
        "    #file.close()"
      ],
      "metadata": {
        "id": "U6zGGYz51MdO"
      },
      "execution_count": null,
      "outputs": []
    },
    {
      "cell_type": "markdown",
      "source": [
        "fasttext"
      ],
      "metadata": {
        "id": "Ppiq_qOC1gdz"
      }
    },
    {
      "cell_type": "code",
      "source": [
        "\n",
        "from gensim.models import FastText\n",
        "fast_mod = Word2Vec.load(\"hi/50/fasttext/hi-d50-m2-fasttext.model\")"
      ],
      "metadata": {
        "id": "fe_xMG781iZr"
      },
      "execution_count": null,
      "outputs": []
    },
    {
      "cell_type": "code",
      "source": [
        "fast_50_acc = []\n",
        "for i in terms:\n",
        "    aa = fast_mod.wv[i[0]]\n",
        "    bb = fast_mod.wv[i[1]]\n",
        "    a = np.sum(np.dot(aa,bb))\n",
        "    b = 0 \n",
        "    for i in range(len(aa)):\n",
        "      b = b + aa[i]*aa[i]\n",
        "    b = b**.5\n",
        "    c = 0\n",
        "    for i in range(len(bb)):\n",
        "      c = c + bb[i]*bb[i]\n",
        "    c = c**.5\n",
        "    x = a/(b*c)\n",
        "    fast_50_acc.append(x)"
      ],
      "metadata": {
        "id": "gmu_xwN81-wb"
      },
      "execution_count": null,
      "outputs": []
    },
    {
      "cell_type": "code",
      "source": [
        ""
      ],
      "metadata": {
        "id": "TMf7qbNt2VGl"
      },
      "execution_count": null,
      "outputs": []
    },
    {
      "cell_type": "code",
      "source": [
        "glov_50_acc[8]"
      ],
      "metadata": {
        "colab": {
          "base_uri": "https://localhost:8080/"
        },
        "id": "vL1PtKKc4dhL",
        "outputId": "0aaa601c-5337-4829-c5bb-230769113f8f"
      },
      "execution_count": null,
      "outputs": [
        {
          "output_type": "execute_result",
          "data": {
            "text/plain": [
              "0.7731318932210874"
            ]
          },
          "metadata": {},
          "execution_count": 20
        }
      ]
    },
    {
      "cell_type": "markdown",
      "source": [
        "Testing"
      ],
      "metadata": {
        "id": "VM28L8dD2dOO"
      }
    },
    {
      "cell_type": "markdown",
      "source": [
        "Glov accuracy"
      ],
      "metadata": {
        "id": "H7LsH-AY2lBJ"
      }
    },
    {
      "cell_type": "code",
      "source": [
        "import pickle\n",
        "with open(\"50_glow.pkl\",'rb') as f:\n",
        "  glov_50_acc = pickle.load(f)\n",
        "  f.close()"
      ],
      "metadata": {
        "id": "8suObamM3RnY"
      },
      "execution_count": null,
      "outputs": []
    },
    {
      "cell_type": "code",
      "source": [
        "import pandas as pd"
      ],
      "metadata": {
        "id": "DrcEa5GU5Ics"
      },
      "execution_count": null,
      "outputs": []
    },
    {
      "cell_type": "code",
      "source": [
        "glov_50_acc[0]"
      ],
      "metadata": {
        "colab": {
          "base_uri": "https://localhost:8080/"
        },
        "id": "zOQRW0jG5Ppq",
        "outputId": "2b18b407-b606-4e25-b2c1-4000d5978323"
      },
      "execution_count": null,
      "outputs": [
        {
          "output_type": "execute_result",
          "data": {
            "text/plain": [
              "0.4291839910547038"
            ]
          },
          "metadata": {},
          "execution_count": 6
        }
      ]
    },
    {
      "cell_type": "code",
      "source": [
        "print('accuracy test for glov')\n",
        "\n",
        "thre =  [.4,.5,.6,.7,.8]\n",
        "for i in thre:\n",
        "  df = pd.DataFrame({'Word1':'','Word2':'','Similarity Score':'','Ground Truth':'','Label':''},index=[0])\n",
        "  k = 0\n",
        "  for j in range(len(glov_50_acc)):\n",
        "     x =0\n",
        "     if(float(truth[j]) > 10*i):\n",
        "       if(glov_50_acc[j] > i):\n",
        "         x =1\n",
        "         k = k+x\n",
        "     else:\n",
        "      if(glov_50_acc[j] <= 10*i):\n",
        "        x = 1\n",
        "        k = k+x\n",
        "     temp = pd.DataFrame({'Word1':terms[j][0],'Word2':terms[j][1],'Similarity Score':glov_50_acc[j]*10,'Ground Truth':truth[j],'Label':x},index =[0])\n",
        "     df = pd.concat([df,temp],axis = 0)\n",
        "  k = k /len(truth)\n",
        "  temp = pd.DataFrame({'Word1':'accuracy','Word2':'','Similarity Score':'','Ground Truth':'','Label':k},index =[0])\n",
        "  df = pd.concat([df,temp],axis = 0)\n",
        "  df.to_csv('Q1_glov50_similarity_' + str(i) + '.csv')\n",
        "  print(\"accuracy for threshold value\" + \" \" + str(i),k )"
      ],
      "metadata": {
        "colab": {
          "base_uri": "https://localhost:8080/"
        },
        "id": "1FJM_Tk82e1A",
        "outputId": "31f6dc16-a781-44cd-af20-4251e397254a"
      },
      "execution_count": null,
      "outputs": [
        {
          "output_type": "stream",
          "name": "stdout",
          "text": [
            "accuracy test for glov\n",
            "accuracy for threshold value 0.4 0.7846153846153846\n",
            "accuracy for threshold value 0.5 0.676923076923077\n",
            "accuracy for threshold value 0.6 0.5538461538461539\n",
            "accuracy for threshold value 0.7 0.7076923076923077\n",
            "accuracy for threshold value 0.8 0.8769230769230769\n"
          ]
        }
      ]
    },
    {
      "cell_type": "code",
      "source": [
        ""
      ],
      "metadata": {
        "id": "sq9Cu0nB5k_b"
      },
      "execution_count": null,
      "outputs": []
    },
    {
      "cell_type": "markdown",
      "source": [
        "cbow_acc"
      ],
      "metadata": {
        "id": "KIW_wNrC5lSp"
      }
    },
    {
      "cell_type": "code",
      "source": [
        "import pickle\n",
        "with open(\"50_cbow.pkl\",'rb') as f:\n",
        "  cbow_50_acc = pickle.load(f)\n",
        "  f.close()"
      ],
      "metadata": {
        "id": "zLeXFZel5ouu"
      },
      "execution_count": null,
      "outputs": []
    },
    {
      "cell_type": "code",
      "source": [
        "print('accuracy test for cbow')\n",
        "thre =  [.4,.5,.6,.7,.8]\n",
        "for i in thre:\n",
        "  df = pd.DataFrame({'Word1':'','Word2':'','Similarity Score':'','Ground Truth':'','Label':''},index=[0])\n",
        "  k = 0\n",
        "  for j in range(len(cbow_50_acc)):\n",
        "    if(float(truth[j]) > 10*i):\n",
        "      if(cbow_50_acc[j] > i):\n",
        "        x =1\n",
        "        k = k+x\n",
        "    else:\n",
        "      if(cbow_50_acc[j] <= 10*i):\n",
        "        x =1\n",
        "        k = k+x\n",
        "    temp = pd.DataFrame({'Word1':terms[j][0],'Word2':terms[j][1],'Similarity Score':glov_50_acc[j]*10,'Ground Truth':truth[j],'Label':x},index =[0])\n",
        "    df = pd.concat([df,temp],axis = 0)\n",
        "  k = k /len(truth)\n",
        "  temp = pd.DataFrame({'Word1':'accuracy','Word2':'','Similarity Score':'','Ground Truth':'','Label':k},index =[0])\n",
        "  df = pd.concat([df,temp],axis = 0)\n",
        "  df.to_csv('Q1_cbow50_similarity_' + str(i) + '.csv')\n",
        "  print(\"accuracy for threshold value\" + \" \" + str(i),k )"
      ],
      "metadata": {
        "colab": {
          "base_uri": "https://localhost:8080/"
        },
        "id": "Ri2skKDv5xkx",
        "outputId": "a4e28f7d-ad55-496c-ad81-7b33d1a6a9dd"
      },
      "execution_count": null,
      "outputs": [
        {
          "output_type": "stream",
          "name": "stdout",
          "text": [
            "accuracy test for cbow\n",
            "accuracy for threshold value 0.4 0.7076923076923077\n",
            "accuracy for threshold value 0.5 0.5846153846153846\n",
            "accuracy for threshold value 0.6 0.5384615384615384\n",
            "accuracy for threshold value 0.7 0.7538461538461538\n",
            "accuracy for threshold value 0.8 0.8923076923076924\n"
          ]
        }
      ]
    },
    {
      "cell_type": "markdown",
      "source": [
        "sg accuracy"
      ],
      "metadata": {
        "id": "BHqY2qE26BEC"
      }
    },
    {
      "cell_type": "code",
      "source": [
        "import pickle\n",
        "with open(\"50_cbow.pkl\",'rb') as f:\n",
        "  sg_50_acc = pickle.load(f)\n",
        "  f.close()"
      ],
      "metadata": {
        "id": "hfqvdKaF6Cqb"
      },
      "execution_count": null,
      "outputs": []
    },
    {
      "cell_type": "code",
      "source": [
        "print('accuracy test for sg')\n",
        "thre =  [.4,.5,.6,.7,.8]\n",
        "for i in thre:\n",
        "  df = pd.DataFrame({'Word1':'','Word2':'','Similarity Score':'','Ground Truth':'','Label':''},index=[0])\n",
        "  k = 0\n",
        "  for j in range(len(sg_50_acc)):\n",
        "    if(float(truth[j]) > 10*i):\n",
        "      if(sg_50_acc[j] > i):\n",
        "        x =1\n",
        "        k = k+x\n",
        "    else:\n",
        "      if(sg_50_acc[j] <= 10*i):\n",
        "        x =1\n",
        "        k = k+x\n",
        "    temp = pd.DataFrame({'Word1':terms[j][0],'Word2':terms[j][1],'Similarity Score':glov_50_acc[j]*10,'Ground Truth':truth[j],'Label':x},index =[0])\n",
        "    df = pd.concat([df,temp],axis = 0)\n",
        "  k = k /len(truth)\n",
        "  temp = pd.DataFrame({'Word1':'accuracy','Word2':'','Similarity Score':'','Ground Truth':'','Label':k},index =[0])\n",
        "  df = pd.concat([df,temp],axis = 0)\n",
        "  df.to_csv('Q1_sg50_similarity_' + str(i) + '.csv')\n",
        "  print(\"accuracy for threshold value\" + \" \" + str(i),k )"
      ],
      "metadata": {
        "colab": {
          "base_uri": "https://localhost:8080/"
        },
        "id": "Ph8epsAv6Fpb",
        "outputId": "772781ea-d448-43a3-b1e4-f6214c5e0c61"
      },
      "execution_count": null,
      "outputs": [
        {
          "output_type": "stream",
          "name": "stdout",
          "text": [
            "accuracy test for sg\n",
            "accuracy for threshold value 0.4 0.7076923076923077\n",
            "accuracy for threshold value 0.5 0.5846153846153846\n",
            "accuracy for threshold value 0.6 0.5384615384615384\n",
            "accuracy for threshold value 0.7 0.7538461538461538\n",
            "accuracy for threshold value 0.8 0.8923076923076924\n"
          ]
        }
      ]
    },
    {
      "cell_type": "markdown",
      "source": [
        "fasttext accuracy"
      ],
      "metadata": {
        "id": "SzneXEsA8Oss"
      }
    },
    {
      "cell_type": "code",
      "source": [
        "import pickle\n",
        "with open(\"50_fast.pkl\",'rb') as f:\n",
        "  fast_50_acc = pickle.load(f)\n",
        "  f.close()"
      ],
      "metadata": {
        "id": "8KISfn5t8Q1z"
      },
      "execution_count": null,
      "outputs": []
    },
    {
      "cell_type": "code",
      "source": [
        "print('accuracy test for fasttext')\n",
        "thre =  [.4,.5,.6,.7,.8]\n",
        "for i in thre:\n",
        "  df = pd.DataFrame({'Word1':'','Word2':'','Similarity Score':'','Ground Truth':'','Label':''},index=[0])\n",
        "  k = 0\n",
        "  for j in range(len(fast_50_acc)):\n",
        "    if(float(truth[j]) > 10*i):\n",
        "      if(fast_50_acc[j] > i):\n",
        "        x =1\n",
        "        k = k+x\n",
        "    else:\n",
        "      if(fast_50_acc[j] <= 10*i):\n",
        "        x =1\n",
        "        k = k+x\n",
        "    temp = pd.DataFrame({'Word1':terms[j][0],'Word2':terms[j][1],'Similarity Score':glov_50_acc[j]*10,'Ground Truth':truth[j],'Label':x},index =[0])\n",
        "    df = pd.concat([df,temp],axis = 0)\n",
        "  k = k /len(truth)\n",
        "  temp = pd.DataFrame({'Word1':'accuracy','Word2':'','Similarity Score':'','Ground Truth':'','Label':k},index =[0])\n",
        "  df = pd.concat([df,temp],axis = 0)\n",
        "  df.to_csv('Q1_fasttext_similarity_' + str(i) + '.csv')\n",
        "  print(\"accuracy for threshold value\" + \" \" + str(i),k )"
      ],
      "metadata": {
        "colab": {
          "base_uri": "https://localhost:8080/"
        },
        "id": "5EEs14Gw88L7",
        "outputId": "9463c230-6566-46cc-8e52-a8b35001f020"
      },
      "execution_count": null,
      "outputs": [
        {
          "output_type": "stream",
          "name": "stdout",
          "text": [
            "accuracy test for fasttext\n",
            "accuracy for threshold value 0.4 0.9230769230769231\n",
            "accuracy for threshold value 0.5 0.8615384615384616\n",
            "accuracy for threshold value 0.6 0.6461538461538462\n",
            "accuracy for threshold value 0.7 0.7692307692307693\n",
            "accuracy for threshold value 0.8 0.8923076923076924\n"
          ]
        }
      ]
    }
  ]
}